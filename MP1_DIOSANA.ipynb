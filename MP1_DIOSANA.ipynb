{
  "nbformat": 4,
  "nbformat_minor": 0,
  "metadata": {
    "colab": {
      "provenance": []
    },
    "kernelspec": {
      "name": "python3",
      "display_name": "Python 3"
    }
  },
  "cells": [
    {
      "cell_type": "markdown",
      "metadata": {
        "id": "aaZx8ywJkIPe"
      },
      "source": [
        "# Code for total days\n"
      ]
    },
    {
      "cell_type": "code",
      "metadata": {
        "id": "7kJhllRYVPUh"
      },
      "source": [
        "def compute_total_days():\n",
        "  \"\"\"Compute the total days in between the start and end date\"\"\"\n",
        "\n",
        "  #Days per month. I added 0 at the beginning as a placeholder for days_per_month[0].\n",
        "  #I did this so that I won't be confused on numbers since python index always starts from 0.\n",
        "  days_per_month = [0, 31, 28, 31, 30, 31, 30, 31, 31, 30, 31, 30, 31]\n",
        "\n",
        "  #Computation for days in the start month and end month ONLY.\n",
        "  days_of_start_month = days_per_month[start_month] - start_day + 1\n",
        "  days_of_end_month = end_day\n",
        "\n",
        "  '''start date: Februrary 15 --> 14 days'''\n",
        "  '''end date: October 10 --> 10 days'''\n",
        "\n",
        "  #Computation for days between start month and end month (days in the start and end month excluded)\n",
        "  days_after_start_month = sum(days_per_month[start_month+1:])\n",
        "  '''start date: February 15, 2001 --> 306 days'''\n",
        "\n",
        "  days_before_end_month = sum(days_per_month[0:end_month])\n",
        "  '''end date: October 10, 2003 --> 273 days'''\n",
        "\n",
        "  days_between_same_year = sum(days_per_month[start_month+1:end_month])\n",
        "  '''February 15, 2001 - October 10, 2001 --> 214 days'''\n",
        "\n",
        "  #total_days represent the number of total days between the start date and end date.\n",
        "  total_days = 0\n",
        "\n",
        "  #total_leap_years is used when there is a leap year\n",
        "  total_leap_years = 0\n",
        "\n",
        "  #this statement is used when we are computing for days if there is more than 1 year difference\n",
        "  if end_year - start_year > 1:\n",
        "    for year in range(start_year+1, end_year):\n",
        "      if year % 4 == 0:\n",
        "        total_leap_years += 1\n",
        "    total_days_between_start_and_end_year = (len(range(start_year+1, end_year))*365) + total_leap_years\n",
        "    total_days = total_days_between_start_and_end_year + days_after_start_month + days_of_start_month + days_before_end_month + days_of_end_month\n",
        "\n",
        "    '''February 15, 2001 - October 10, 2003 --> 14 + 306 + 365 + 273 + 10 + 0 = 968 days'''\n",
        "\n",
        "    #if starting year is a leap year, and start date is before or on Feb. 29,,\n",
        "    # or if end year is a leap year, and end date is after Feb. 29, we will add additional 1 day\n",
        "    if (start_year % 4 == 0 and (start_month <= 2)):\n",
        "      total_days += 1\n",
        "    if (end_year % 4 == 0 and (end_month > 2)):\n",
        "      total_days += 1\n",
        "\n",
        "  #this is used if we are computing days of the same year\n",
        "  if end_year == start_year:\n",
        "\n",
        "    # this is a special case, if same month and same year, this operation will be used\n",
        "    if start_month == end_month:\n",
        "     total_days = end_day - start_day + 1\n",
        "\n",
        "     '''February 10, 2001 - February 15, 2001 --> 6 days '''\n",
        "\n",
        "    else:\n",
        "     total_days = days_of_start_month + days_between_same_year + days_of_end_month\n",
        "\n",
        "    '''February 15, 2001 - October 10, 2001 --> 14 + 214 + 10 = 238 days'''\n",
        "\n",
        "    # if the year is a leap year, and, the start date is before Feb 29 AND the end date is after Feb 29, we will add 1 day.\n",
        "    if start_year % 4 == 0 and ((start_month <= 2)) and (end_month > 2):\n",
        "      total_days += 1\n",
        "\n",
        "  # this is used if the start year and end year is consecutive (eg 2019-2020)\n",
        "  if end_year - start_year == 1:\n",
        "    total_days = days_of_start_month + days_after_start_month + days_before_end_month + days_of_end_month\n",
        "\n",
        "    '''February 15, 2001 - October 10, 2002 --> 14 + 10 + 306 + 273 = 603 days'''\n",
        "\n",
        "    # if the start year is leap year, and start date is before Feb 29,,\n",
        "    # or if end year is a leap year, and end date is after Feb 29, we will add 1 day.\n",
        "    if (start_year % 4 == 0 and (start_month <= 2)) or (end_year % 4 == 0 and end_month > 2):\n",
        "      total_days += 1\n",
        "\n",
        "  #this is the result of the total days.\n",
        "  return total_days"
      ],
      "execution_count": 1,
      "outputs": []
    },
    {
      "cell_type": "markdown",
      "metadata": {
        "id": "N1vJ6LcQnpYT"
      },
      "source": [
        "#Code for number of weekdays"
      ]
    },
    {
      "cell_type": "code",
      "metadata": {
        "id": "JSQD9-C9n1jz"
      },
      "source": [
        "def compute_weekdays():\n",
        "  \"\"\"Computes the total number of weekdays and weekends\"\"\"\n",
        "\n",
        "  #I set the first day as Jan 1, 1971 (Friday). This serves as reference for other days.\n",
        "  #The value is 4 because Jan 1, 1971, which is Friday (5) is included in the range\n",
        "  first_day = 4\n",
        "\n",
        "  # I called the value for days_per_month again since this is a different function\n",
        "  days_per_month = [0, 31, 28, 31, 30, 31, 30, 31, 31, 30, 31, 30, 31]\n",
        "\n",
        "  # I set the number of leap years between start date and Jan 1, 1971\n",
        "  total_leap_year_start_day = 0\n",
        "\n",
        "  # I set the number of leap years between end date and Jan 1, 1971\n",
        "  total_leap_year_end_day = 0\n",
        "\n",
        "  # This is the total days between start day and Jan 1, 1971\n",
        "  days_between_start_and_first_day = 0\n",
        "\n",
        "  # This is the total days between end day and Jan 1, 1971\n",
        "  days_between_end_and_first_day = 0\n",
        "\n",
        "  # I labeled the value for the total weekends and total weekdays\n",
        "  total_weekends = 0\n",
        "  total_weekdays = 0\n",
        "\n",
        "  ''' The code for finding the range between start day and Jan 1, 1971'''\n",
        "  days_before_start_month = sum(days_per_month[0:start_month]) # days between Jan 1 of the start year and start month\n",
        "  days_before_start_day = start_day # days between first day of the start month and the start day\n",
        "\n",
        "  for year in range(1971, start_year):\n",
        "    if year % 4 == 0:\n",
        "      total_leap_year_start_day += 1\n",
        "  days_between_start_and_first_day = (len(range(1971, start_year))*365) + total_leap_year_start_day + days_before_start_month + days_before_start_day + first_day\n",
        "\n",
        "  '''February 15, 2001 --> 11,004 + 4 = 11,008\n",
        "                            11,008 % 7 = 4 (Thursday)'''\n",
        "  '''Monday --> 1, Tuesday --> 2, ...  Sunday --> 0'''\n",
        "\n",
        "  # this is a special case just in case the start year is a leap year and the start month is AFTER Feb. 29\n",
        "  if start_year % 4 == 0 and start_month > 2:\n",
        "    days_between_start_and_first_day += 1\n",
        "\n",
        "  ''' The code for finding the range between end day and Jan 1, 1971'''\n",
        "  days_before_end_month = sum(days_per_month[0:end_month]) # days between Jan 1 of the start year and start month\n",
        "  days_before_end_day = end_day # days between first day of the start month and the start day\n",
        "\n",
        "  for year in range(1971, end_year):\n",
        "    if year % 4 == 0:\n",
        "      total_leap_year_end_day += 1\n",
        "  days_between_end_and_first_day = (len(range(1971, end_year))*365) + total_leap_year_end_day + days_before_end_month + days_before_end_day + first_day\n",
        "\n",
        "  '''October 10, 2003 --> 11,971 + 4 = 11,975\n",
        "                          11,975 % 7 = 5 (Friday)'''\n",
        "\n",
        "  # this is a special case just in case the end year is a leap year and the end month is AFTER Feb. 29\n",
        "  if end_year % 4 == 0 and end_month > 2:\n",
        "    days_between_end_and_first_day += 1\n",
        "\n",
        "  for day in range(days_between_start_and_first_day, days_between_end_and_first_day+1):\n",
        "    '''[2/15/2001, 2/16/2001, 2/17/2001, ... 10/10/2003]\n",
        "        [11009, 11008, 110010, ... , 11975]\n",
        "        [Thursday, Friday, Saturday, ... , Friday] '''\n",
        "\n",
        "    if day % 7 == 6 or day % 7 == 0:\n",
        "      total_weekends += 1\n",
        "\n",
        "  total_weekdays = (days_between_end_and_first_day - days_between_start_and_first_day) + 1 - total_weekends\n",
        "\n",
        "  weekend_weekday = [total_weekends, total_weekdays]\n",
        "\n",
        "  return weekend_weekday"
      ],
      "execution_count": 2,
      "outputs": []
    },
    {
      "cell_type": "markdown",
      "metadata": {
        "id": "NwUNmk79nvon"
      },
      "source": [
        "#Code for leap years"
      ]
    },
    {
      "cell_type": "code",
      "metadata": {
        "id": "7mr9nm3Cn2L8"
      },
      "source": [
        "def compute_leap_years(): #function for computing leap years\n",
        "  \"\"\"Computes the total additional days from leap years\"\"\"\n",
        "\n",
        "  leap_years = 0 #I labeled the variable that will count the total leap years\n",
        "\n",
        "  #this condition is used when we are to find the number of leap years for more than a year\n",
        "  if end_year - start_year > 1:\n",
        "    for year in range (start_year+1, end_year):\n",
        "      if year % 4 == 0:\n",
        "        leap_years += 1\n",
        "    if (start_year % 4 == 0) and (start_month <= 2):\n",
        "       leap_years += 1\n",
        "    if (end_year % 4 == 0 and (end_month > 2 or (end_month == 2 and end_day == 29))):\n",
        "       leap_years += 1\n",
        "\n",
        "  #this condition is used if it is a leap year, and Feb. 29 is between the range\n",
        "  if start_year == end_year:\n",
        "    if start_year % 4 == 0 and ((start_month <= 2) and (end_month > 3 or (end_month == 2 and end_day == 29))):\n",
        "        leap_years = 1\n",
        "\n",
        "  #this condition is used for consecutive years, and when Feb. 29 is between the range\n",
        "  if end_year - start_year == 1:\n",
        "    if (start_year % 4 == 0 and (start_month <= 2)) or (end_year % 4 == 0 and (end_month > 2 or (end_month == 2 and end_day == 29))):\n",
        "      leap_years = 1\n",
        "\n",
        "  return leap_years"
      ],
      "execution_count": 3,
      "outputs": []
    },
    {
      "cell_type": "markdown",
      "metadata": {
        "id": "UHX6w_ten94c"
      },
      "source": [
        "#Code for holidays"
      ]
    },
    {
      "cell_type": "markdown",
      "metadata": {
        "id": "_k1jUDh6Th6n"
      },
      "source": [
        "Code for Christmas day holiday\n"
      ]
    },
    {
      "cell_type": "code",
      "metadata": {
        "id": "tNAGlBuZSwSE"
      },
      "source": [
        "def christmas_day_holiday(): #function for computing christmas holiday\n",
        "  \"\"\"Computes the total number of Christmas day excluding Christmases in weekends\"\"\"\n",
        "\n",
        "  first_day = 4\n",
        "  christmas_holiday = 0\n",
        "\n",
        "  # list for interval years between start year and and year (start year and end year not included)\n",
        "  interval_years = [i for i in range(start_year+1,end_year)]\n",
        "  '''February 15, 2001 - October 10, 2003\n",
        "       interval_years = [2002] '''\n",
        "\n",
        "  #special case if we want to know if there is a christmas holiday with start date and end date both in the same year\n",
        "  if start_year == end_year:\n",
        "    # a statement that determines if the christmas day is included in the range\n",
        "    if (start_month < 12 or (start_month == 12 and start_day <= 25)) and (end_month == 12 and end_day >= 25):\n",
        "      days_of_interval = (len(range(1971, start_year+1))*365) + first_day + len(range(1972, start_year+1, 4))\n",
        "      #now we want to determine if christmas is not on a weekend\n",
        "      if (days_of_interval - 6) % 7 != 0 and (days_of_interval - 6) % 7 != 6:\n",
        "        christmas_holiday = 1\n",
        "\n",
        "  #this is the main code for determining the number of christmas holiday, given start year != end year\n",
        "  else:\n",
        "\n",
        "   for order, year in enumerate(interval_years):\n",
        "     ''' --> (0, 2002) '''\n",
        "     #for each year in the interval years, I got the number of days between January 1st, 1971, and December 31st of every year\n",
        "     #again, I added 4 (first_day) to know what day is December 31st of that year\n",
        "     interval_years[order] = (len(range(1971, year+1))*365) + first_day + len(range(1972, year+1, 4))\n",
        "\n",
        "     '''interval_years[0] = 11,688 + 4 = 11,692 --> Days between Jan. 1, 1971 and Dec. 31, 2002 (+4)'''\n",
        "\n",
        "     #this operation is to find the day of december 31st using modulo division\n",
        "     interval_years[order] = (interval_years[order] - 6) % 7\n",
        "\n",
        "     '''interval_years[0] = 11686 % 7 = 3 (Wednesday)'''\n",
        "\n",
        "   #if christmas day is not a Saturday or Sunday, then it is a holiday\n",
        "   for x in interval_years:\n",
        "     if (x != 6) and (x != 0):\n",
        "      christmas_holiday += 1\n",
        "\n",
        "   #if start date is before or on Dec. 25, we will determine if Christmas day of the start year is a holiday\n",
        "   if start_month < 12 or (start_month == 12 and start_day <= 25):\n",
        "     days_between_first_day_and_start_year = (len(range(1971, start_year+1))*365) + first_day + len(range(1972, start_year+1, 4))\n",
        "     #if christmas is not on a weekend, then it is a holiday\n",
        "     if (days_between_first_day_and_start_year - 6) % 7  != 0 and (days_between_first_day_and_start_year - 6) % 7  != 6:\n",
        "       christmas_holiday += 1\n",
        "\n",
        "   #if end date is after Dec. 25, we will determine again if the christmas on end year is a holiday\n",
        "   if end_month == 12 and end_day >= 25:\n",
        "     days_between_first_day_and_end_year = (len(range(1971, end_year+1))*365) + first_day + len(range(1972, end_year+1, 4))\n",
        "     #if christmas is not on a weekend, then it is a holiday\n",
        "     if (days_between_first_day_and_end_year - 6) % 7  != 0 and (days_between_first_day_and_end_year - 6) % 7  != 6:\n",
        "        christmas_holiday += 1\n",
        "\n",
        "  return christmas_holiday"
      ],
      "execution_count": 4,
      "outputs": []
    },
    {
      "cell_type": "markdown",
      "metadata": {
        "id": "yzSuyr4v4RRm"
      },
      "source": [
        "Code for all saint's day holiday"
      ]
    },
    {
      "cell_type": "code",
      "metadata": {
        "id": "0WxGuROb2B1Y"
      },
      "source": [
        "'''I mostly copied everything from the christmas_day_holiday function. I just edited it to determine the day of all saints day\n",
        "by making Dec 31 of the same year as the reference day, and subtracting it from days between Nov 1 and Dec 31\n",
        "\n",
        "I also made sure that all saints day holiday is included if the starting date starts before Nov 1 and end date ends after Nov 1,\n",
        "making sure that it is only included if it is not on a weekend.'''\n",
        "\n",
        "def allsaints_day_holiday():\n",
        "  \"\"\"Computes the total number of all saints day excluding all saints day in weekends\"\"\"\n",
        "\n",
        "  first_day = 4\n",
        "  allsaintsday_holiday = 0\n",
        "\n",
        "  interval_years = [i for i in range(start_year+1,end_year)]\n",
        "\n",
        "  if start_year == end_year:\n",
        "    if (start_month < 11 or (start_month == 11 and start_day == 1)) and (end_month >= 11):\n",
        "      days_of_interval = (len(range(1971, start_year+1))*365) + first_day + len(range(1972, start_year+1, 4))\n",
        "      if (days_of_interval - 60) % 7 != 0 and (days_of_interval - 60) % 7 != 6:\n",
        "        allsaintsday_holiday = 1\n",
        "\n",
        "  else:\n",
        "   for order, year in enumerate(interval_years):\n",
        "     interval_years[order] = (len(range(1971, year+1))*365) + first_day + len(range(1972, year+1, 4))\n",
        "     interval_years[order] = (interval_years[order] - 60) % 7\n",
        "\n",
        "   for x in interval_years:\n",
        "     if (x != 6) and (x != 0):\n",
        "      allsaintsday_holiday += 1\n",
        "\n",
        "   if start_month < 11 or (start_month == 11 and start_day == 1):\n",
        "     days_between_first_day_and_start_year = (len(range(1971, start_year+1))*365) + first_day + len(range(1972, start_year+1, 4))\n",
        "     if (days_between_first_day_and_start_year - 60) % 7  != 0 and (days_between_first_day_and_start_year - 60) % 7  != 6:\n",
        "       allsaintsday_holiday += 1\n",
        "\n",
        "   if (end_month == 11 and end_day >= 1) or (end_month > 11):\n",
        "     days_between_first_day_and_end_year = (len(range(1971, end_year+1))*365) + first_day + len(range(1972, end_year+1, 4))\n",
        "     if (days_between_first_day_and_end_year - 60) % 7  != 0 and (days_between_first_day_and_end_year - 60) % 7  != 6:\n",
        "        allsaintsday_holiday += 1\n",
        "\n",
        "  return allsaintsday_holiday"
      ],
      "execution_count": 5,
      "outputs": []
    },
    {
      "cell_type": "markdown",
      "metadata": {
        "id": "TAbKFtEY5mDN"
      },
      "source": [
        "Code for labor day holiday"
      ]
    },
    {
      "cell_type": "code",
      "metadata": {
        "id": "VRTPxAcr2Ev_"
      },
      "source": [
        "''' I also copied this code from the christmas_day_holiday function. It also determines if labor day is a holiday or not.'''\n",
        "\n",
        "def labor_day_holiday():\n",
        "  \"\"\"Computes the total number of labor day excluding labor day in weekends\"\"\"\n",
        "\n",
        "  first_day = 4\n",
        "  laborday_holiday = 0\n",
        "\n",
        "  interval_years = [i for i in range(start_year+1,end_year)]\n",
        "\n",
        "  if start_year == end_year:\n",
        "    if (start_month < 5 or (start_month == 5 and start_day == 1)) and (end_month >= 5):\n",
        "      days_of_interval = (len(range(1971, start_year+1))*365) + first_day + len(range(1972, start_year+1, 4))\n",
        "      if (days_of_interval - 244) % 7 != 0 and (days_of_interval - 244) % 7 != 6:\n",
        "        laborday_holiday = 1\n",
        "\n",
        "  else:\n",
        "   for order, year in enumerate(interval_years):\n",
        "     interval_years[order] = (len(range(1971, year+1))*365) + first_day + len(range(1972, year+1, 4))\n",
        "     interval_years[order] = (interval_years[order] - 244) % 7\n",
        "\n",
        "   for x in interval_years:\n",
        "     if (x != 6) and (x != 0):\n",
        "      laborday_holiday += 1\n",
        "\n",
        "   if start_month < 5 or (start_month == 5 and start_day == 1):\n",
        "     days_between_first_day_and_start_year = (len(range(1971, start_year+1))*365) + first_day + len(range(1972, start_year+1, 4))\n",
        "     if (days_between_first_day_and_start_year - 244) % 7  != 0 and (days_between_first_day_and_start_year - 244) % 7  != 6:\n",
        "       laborday_holiday += 1\n",
        "\n",
        "   if (end_month == 5 and end_day >= 1) or (end_month > 5):\n",
        "     days_between_first_day_and_end_year = (len(range(1971, end_year+1))*365) + first_day + len(range(1972, end_year+1, 4))\n",
        "     if (days_between_first_day_and_end_year - 244) % 7  != 0 and (days_between_first_day_and_end_year - 244) % 7  != 6:\n",
        "        laborday_holiday += 1\n",
        "\n",
        "  return laborday_holiday"
      ],
      "execution_count": 6,
      "outputs": []
    },
    {
      "cell_type": "markdown",
      "metadata": {
        "id": "Oxuwp2Ct793k"
      },
      "source": [
        "Code for new year holiday"
      ]
    },
    {
      "cell_type": "code",
      "metadata": {
        "id": "u19iRpfT2Fn8"
      },
      "source": [
        "'''This is the also the same. Except I used Dec 31 from the PREVIOUS year as the reference day, and adding 1 to get the day of Jan 1'''\n",
        "\n",
        "def newyear_day_holiday():\n",
        "  \"\"\"Computes the total number of new year excluding new year in weekends\"\"\"\n",
        "\n",
        "  first_day = 4\n",
        "  newyearday_holiday = 0\n",
        "\n",
        "  interval_years = [i for i in range(start_year+1,end_year)]\n",
        "\n",
        "  if start_year == end_year:\n",
        "    if (start_month == 1 and start_day == 1) and (end_month > 1 or (end_month == 1 and end_day >= 1)):\n",
        "      days_of_interval = (len(range(1971, start_year))*365) + first_day + len(range(1972, start_year, 4))\n",
        "      if (days_of_interval + 1) % 7 != 0 and (days_of_interval + 1) % 7 != 6:\n",
        "        newyearday_holiday = 1\n",
        "\n",
        "  else:\n",
        "   for order, year in enumerate(interval_years):\n",
        "     interval_years[order] = (len(range(1971, year))*365) + first_day + len(range(1972, year, 4))\n",
        "     interval_years[order] = (interval_years[order] + 1) % 7\n",
        "\n",
        "   for x in interval_years:\n",
        "     if (x != 6) and (x != 0):\n",
        "      newyearday_holiday += 1\n",
        "\n",
        "   if start_month == 1 and start_day == 1:\n",
        "     days_between_first_day_and_start_year = (len(range(1971, start_year))*365) + first_day + len(range(1972, start_year, 4))\n",
        "     if (days_between_first_day_and_start_year + 1) % 7  != 0 and (days_between_first_day_and_start_year + 1) % 7  != 6:\n",
        "       newyearday_holiday += 1\n",
        "\n",
        "   if end_month > 1 or (end_month == 1 and end_day >= 1):\n",
        "     days_between_first_day_and_end_year = (len(range(1971, end_year))*365) + first_day + len(range(1972, end_year, 4))\n",
        "     if (days_between_first_day_and_end_year + 1) % 7  != 0 and (days_between_first_day_and_end_year + 1) % 7  != 6:\n",
        "        newyearday_holiday += 1\n",
        "\n",
        "  return newyearday_holiday"
      ],
      "execution_count": 7,
      "outputs": []
    },
    {
      "cell_type": "markdown",
      "metadata": {
        "id": "pmVyCv92_STQ"
      },
      "source": [
        "Main code for computing total holidays"
      ]
    },
    {
      "cell_type": "code",
      "metadata": {
        "id": "wBbZBcuA_Wj_"
      },
      "source": [
        "def compute_holidays():\n",
        "  \"\"\"Computes the total number of all holidays (holidays in weekends exclusive)\"\"\"\n",
        "\n",
        "  #call the functions of each holiday\n",
        "  christmas = christmas_day_holiday()\n",
        "  allsaints = allsaints_day_holiday()\n",
        "  labor = labor_day_holiday()\n",
        "  newyear = newyear_day_holiday()\n",
        "\n",
        "  #add to get the total holidays\n",
        "  total_holidays = newyear + labor + allsaints + christmas\n",
        "\n",
        "  return total_holidays"
      ],
      "execution_count": 8,
      "outputs": []
    },
    {
      "cell_type": "markdown",
      "metadata": {
        "id": "XP5EabcvoAUh"
      },
      "source": [
        "#Code for workdays"
      ]
    },
    {
      "cell_type": "code",
      "metadata": {
        "id": "tMLyjmbAoEV6"
      },
      "source": [
        "def compute_workdays():\n",
        "  \"\"\"Computes the total number of workdays\"\"\"\n",
        "\n",
        "  #call the functions compute_weekdays and compute_holidays\n",
        "  compute_weekdays()\n",
        "  compute_holidays()\n",
        "\n",
        "  weekend_weekday = compute_weekdays()\n",
        "  total_holidays = compute_holidays()\n",
        "\n",
        "  #subtract to get the total working days\n",
        "  working_days = weekend_weekday[1] - total_holidays\n",
        "\n",
        "  return working_days"
      ],
      "execution_count": 9,
      "outputs": []
    },
    {
      "cell_type": "markdown",
      "metadata": {
        "id": "ekmXKu4rMENf"
      },
      "source": [
        "#Function for Printing results"
      ]
    },
    {
      "cell_type": "code",
      "metadata": {
        "id": "o_JQk8HRMI5L"
      },
      "source": [
        "def print_results():\n",
        "  \"\"\"Prints the results if no error occurred\"\"\"\n",
        "\n",
        "  total_days = compute_total_days()\n",
        "  weekend_weekday = compute_weekdays()\n",
        "  leap_years = compute_leap_years()\n",
        "  christmas_holiday = christmas_day_holiday()\n",
        "  allsaintsday_holiday = allsaints_day_holiday()\n",
        "  laborday_holiday = labor_day_holiday()\n",
        "  newyearday_holiday = newyear_day_holiday()\n",
        "  total_holidays = compute_holidays()\n",
        "  working_days = compute_workdays()\n",
        "\n",
        "  print('\\n' + 'total days from start date to end date: ' + str(total_days) + '\\n')\n",
        "  print('total additional days from leap years: ' + str(leap_years) + '\\n')\n",
        "  print('total weekends: ' + str(weekend_weekday[0]) + '\\n')\n",
        "  print('total days without weekends: ' + str(weekend_weekday[1]) + '\\n')\n",
        "  print('new year holiday: ' + str(newyearday_holiday))\n",
        "  print('labor day holiday: ' + str(laborday_holiday))\n",
        "  print('all saints day holiday: ' + str(allsaintsday_holiday))\n",
        "  print('christmas holiday: ' + str(christmas_holiday))\n",
        "  print('total holidays: ' + str(total_holidays) + '\\n')\n",
        "  print('total working days: ' + str(working_days))\n"
      ],
      "execution_count": 10,
      "outputs": []
    },
    {
      "cell_type": "code",
      "metadata": {
        "id": "m6T0rUhzOqHq"
      },
      "source": [
        "def print_error():\n",
        "  \"\"\"Prints 'Invalid Input. Exiting Program.' if error occured\"\"\"\n",
        "  print('\\n' + 'Invalid Input. Exiting Program.')"
      ],
      "execution_count": 11,
      "outputs": []
    },
    {
      "cell_type": "code",
      "metadata": {
        "id": "gllrWCpTYNJU"
      },
      "source": [
        "def print_if_integer():\n",
        "  \"\"\"Conditions that should be met to print the results\"\"\"\n",
        "\n",
        "  #error checking #1\n",
        "  #if out of range\n",
        "  if start_year < 1971 or end_year > 2020:\n",
        "   print_error()\n",
        "\n",
        "  #error checking #2\n",
        "  #if month inputs are out of range\n",
        "  elif start_month > 12 or start_month < 1:\n",
        "    print(error)\n",
        "  elif end_month > 12 or end_month < 1:\n",
        "    print_error()\n",
        "\n",
        "  #if days are out of range\n",
        "  elif (start_month == 1 or start_month == 3 or start_month == 5 or start_month == 7 or start_month == 8 or start_month == 10 or start_month == 12) and start_day > 31:\n",
        "    print_error()\n",
        "  elif (start_month == 4 or start_month == 6 or start_month == 9 or start_month == 11) and start_day > 30:\n",
        "    print_error()\n",
        "  #if start year is not a leap year and start month is Feb but day is > 28\n",
        "  elif start_month == 2 and start_day > 28 and (start_year % 4 != 0):\n",
        "    print_error()\n",
        "  #if start year is a leap year and start month is Feb but day is > 29\n",
        "  elif start_month == 2 and start_day > 29 and (start_year % 4 == 0):\n",
        "    print_error()\n",
        "  elif (end_month == 1 or end_month == 3 or end_month == 5 or end_month == 7 or end_month == 8 or end_month == 10 or end_month == 12) and end_day > 31:\n",
        "    print_error()\n",
        "  elif (end_month == 4 or end_month == 6 or end_month == 9 or end_month == 11) and end_day > 30:\n",
        "    print_error()\n",
        "  #same function for leap years at end date\n",
        "  elif end_month == 2 and end_day > 28 and (end_year % 4 != 0):\n",
        "    print_error()\n",
        "  elif end_month == 2 and end_day > 29 and (end_year % 4 == 0):\n",
        "    print_error()\n",
        "  #if days are less than 1\n",
        "  elif start_day < 1 or end_day < 1:\n",
        "    print_error()\n",
        "\n",
        "  #if the end date is earlier than the start date\n",
        "  elif start_year > end_year:\n",
        "    print_error()\n",
        "  elif (start_year == end_year) and (start_month > end_month):\n",
        "    print_error()\n",
        "  elif (start_year == end_year) and (start_month == end_month) and (start_day > end_day):\n",
        "    print_error()\n",
        "\n",
        "  #if everything is correct\n",
        "  else:\n",
        "    print_results()"
      ],
      "execution_count": 12,
      "outputs": []
    },
    {
      "cell_type": "markdown",
      "metadata": {
        "id": "0URkGMk6VMMZ"
      },
      "source": [
        "#Input the dates!"
      ]
    },
    {
      "cell_type": "code",
      "metadata": {
        "id": "DsLotVG9Tw1u",
        "colab": {
          "base_uri": "https://localhost:8080/"
        },
        "outputId": "bd1448b7-2a46-4293-f401-97acd17b1a06"
      },
      "source": [
        "start_month_input = input('Enter start month: ')\n",
        "start_day_input = input('Enter start day: ')\n",
        "start_year_input = input('Enter start year: ')\n",
        "end_month_input = input('Enter end month: ')\n",
        "end_day_input = input('Enter end day: ')\n",
        "end_year_input = input('Enter end year: ')\n",
        "\n",
        "'''error checking #3'''\n",
        "try:\n",
        "  start_month = int(start_month_input)\n",
        "  start_day = int(start_day_input)\n",
        "  start_year = int(start_year_input)\n",
        "  end_month = int(end_month_input)\n",
        "  end_day = int(end_day_input)\n",
        "  end_year = int(end_year_input)\n",
        "\n",
        "  print_if_integer()\n",
        "\n",
        "except ValueError:\n",
        "  print_error()"
      ],
      "execution_count": 17,
      "outputs": [
        {
          "output_type": "stream",
          "name": "stdout",
          "text": [
            "Enter start month: 2\n",
            "Enter start day: 14\n",
            "Enter start year: 2003\n",
            "Enter end month: 4\n",
            "Enter end day: 5\n",
            "Enter end year: 2020\n",
            "\n",
            "total days from start date to end date: 6261\n",
            "\n",
            "total additional days from leap years: 5\n",
            "\n",
            "total weekends: 1790\n",
            "\n",
            "total days without weekends: 4471\n",
            "\n",
            "new year holiday: 12\n",
            "labor day holiday: 12\n",
            "all saints day holiday: 12\n",
            "christmas holiday: 12\n",
            "total holidays: 48\n",
            "\n",
            "total working days: 4423\n"
          ]
        }
      ]
    },
    {
      "cell_type": "code",
      "metadata": {
        "id": "10Z3_bpqawzF"
      },
      "source": [],
      "execution_count": null,
      "outputs": []
    }
  ]
}